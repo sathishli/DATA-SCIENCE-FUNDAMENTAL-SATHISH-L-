{
 "cells": [
  {
   "cell_type": "code",
   "execution_count": 1,
   "id": "b1a1978e",
   "metadata": {
    "_cell_guid": "b1076dfc-b9ad-4769-8c92-a6c4dae69d19",
    "_uuid": "8f2839f25d086af736a60e9eeb907d3b93b6e0e5",
    "execution": {
     "iopub.execute_input": "2022-12-29T14:12:51.775254Z",
     "iopub.status.busy": "2022-12-29T14:12:51.774405Z",
     "iopub.status.idle": "2022-12-29T14:12:51.795786Z",
     "shell.execute_reply": "2022-12-29T14:12:51.794464Z"
    },
    "papermill": {
     "duration": 0.039438,
     "end_time": "2022-12-29T14:12:51.799936",
     "exception": false,
     "start_time": "2022-12-29T14:12:51.760498",
     "status": "completed"
    },
    "tags": []
   },
   "outputs": [],
   "source": [
    "# This Python 3 environment comes with many helpful analytics libraries installed\n",
    "# It is defined by the kaggle/python Docker image: https://github.com/kaggle/docker-python\n",
    "# For example, here's several helpful packages to load\n",
    "\n",
    "import numpy as np # linear algebra\n",
    "import pandas as pd # data processing, CSV file I/O (e.g. pd.read_csv)\n",
    "\n",
    "# Input data files are available in the read-only \"../input/\" directory\n",
    "# For example, running this (by clicking run or pressing Shift+Enter) will list all files under the input directory\n",
    "\n",
    "import os\n",
    "for dirname, _, filenames in os.walk('/kaggle/input'):\n",
    "    for filename in filenames:\n",
    "        print(os.path.join(dirname, filename))\n",
    "\n",
    "# You can write up to 20GB to the current directory (/kaggle/working/) that gets preserved as output when you create a version using \"Save & Run All\" \n",
    "# You can also write temporary files to /kaggle/temp/, but they won't be saved outside of the current session"
   ]
  },
  {
   "cell_type": "code",
   "execution_count": 2,
   "id": "923ed7d1",
   "metadata": {
    "execution": {
     "iopub.execute_input": "2022-12-29T14:12:51.820230Z",
     "iopub.status.busy": "2022-12-29T14:12:51.819756Z",
     "iopub.status.idle": "2022-12-29T14:12:51.824657Z",
     "shell.execute_reply": "2022-12-29T14:12:51.823482Z"
    },
    "papermill": {
     "duration": 0.016744,
     "end_time": "2022-12-29T14:12:51.827030",
     "exception": false,
     "start_time": "2022-12-29T14:12:51.810286",
     "status": "completed"
    },
    "tags": []
   },
   "outputs": [],
   "source": [
    "import pandas as pd\n",
    "import numpy as np"
   ]
  },
  {
   "cell_type": "code",
   "execution_count": 3,
   "id": "6676575e",
   "metadata": {
    "execution": {
     "iopub.execute_input": "2022-12-29T14:12:51.844586Z",
     "iopub.status.busy": "2022-12-29T14:12:51.843752Z",
     "iopub.status.idle": "2022-12-29T14:12:51.898036Z",
     "shell.execute_reply": "2022-12-29T14:12:51.896745Z"
    },
    "papermill": {
     "duration": 0.066751,
     "end_time": "2022-12-29T14:12:51.901554",
     "exception": false,
     "start_time": "2022-12-29T14:12:51.834803",
     "status": "completed"
    },
    "tags": []
   },
   "outputs": [
    {
     "ename": "FileNotFoundError",
     "evalue": "[Errno 2] No such file or directory: '/kaggle/input/shopping/WhatsgoodlyData-6.csv'",
     "output_type": "error",
     "traceback": [
      "\u001b[1;31m---------------------------------------------------------------------------\u001b[0m",
      "\u001b[1;31mFileNotFoundError\u001b[0m                         Traceback (most recent call last)",
      "Cell \u001b[1;32mIn[3], line 1\u001b[0m\n\u001b[1;32m----> 1\u001b[0m data\u001b[38;5;241m=\u001b[39m\u001b[43mpd\u001b[49m\u001b[38;5;241;43m.\u001b[39;49m\u001b[43mread_csv\u001b[49m\u001b[43m(\u001b[49m\u001b[38;5;124;43m\"\u001b[39;49m\u001b[38;5;124;43m/kaggle/input/shopping/WhatsgoodlyData-6.csv\u001b[39;49m\u001b[38;5;124;43m\"\u001b[39;49m\u001b[43m)\u001b[49m\n\u001b[0;32m      2\u001b[0m data\u001b[38;5;241m.\u001b[39mhead()\n",
      "File \u001b[1;32mc:\\Users\\sinib\\AppData\\Local\\Programs\\Python\\Python312\\Lib\\site-packages\\pandas\\io\\parsers\\readers.py:1026\u001b[0m, in \u001b[0;36mread_csv\u001b[1;34m(filepath_or_buffer, sep, delimiter, header, names, index_col, usecols, dtype, engine, converters, true_values, false_values, skipinitialspace, skiprows, skipfooter, nrows, na_values, keep_default_na, na_filter, verbose, skip_blank_lines, parse_dates, infer_datetime_format, keep_date_col, date_parser, date_format, dayfirst, cache_dates, iterator, chunksize, compression, thousands, decimal, lineterminator, quotechar, quoting, doublequote, escapechar, comment, encoding, encoding_errors, dialect, on_bad_lines, delim_whitespace, low_memory, memory_map, float_precision, storage_options, dtype_backend)\u001b[0m\n\u001b[0;32m   1013\u001b[0m kwds_defaults \u001b[38;5;241m=\u001b[39m _refine_defaults_read(\n\u001b[0;32m   1014\u001b[0m     dialect,\n\u001b[0;32m   1015\u001b[0m     delimiter,\n\u001b[1;32m   (...)\u001b[0m\n\u001b[0;32m   1022\u001b[0m     dtype_backend\u001b[38;5;241m=\u001b[39mdtype_backend,\n\u001b[0;32m   1023\u001b[0m )\n\u001b[0;32m   1024\u001b[0m kwds\u001b[38;5;241m.\u001b[39mupdate(kwds_defaults)\n\u001b[1;32m-> 1026\u001b[0m \u001b[38;5;28;01mreturn\u001b[39;00m \u001b[43m_read\u001b[49m\u001b[43m(\u001b[49m\u001b[43mfilepath_or_buffer\u001b[49m\u001b[43m,\u001b[49m\u001b[43m \u001b[49m\u001b[43mkwds\u001b[49m\u001b[43m)\u001b[49m\n",
      "File \u001b[1;32mc:\\Users\\sinib\\AppData\\Local\\Programs\\Python\\Python312\\Lib\\site-packages\\pandas\\io\\parsers\\readers.py:620\u001b[0m, in \u001b[0;36m_read\u001b[1;34m(filepath_or_buffer, kwds)\u001b[0m\n\u001b[0;32m    617\u001b[0m _validate_names(kwds\u001b[38;5;241m.\u001b[39mget(\u001b[38;5;124m\"\u001b[39m\u001b[38;5;124mnames\u001b[39m\u001b[38;5;124m\"\u001b[39m, \u001b[38;5;28;01mNone\u001b[39;00m))\n\u001b[0;32m    619\u001b[0m \u001b[38;5;66;03m# Create the parser.\u001b[39;00m\n\u001b[1;32m--> 620\u001b[0m parser \u001b[38;5;241m=\u001b[39m \u001b[43mTextFileReader\u001b[49m\u001b[43m(\u001b[49m\u001b[43mfilepath_or_buffer\u001b[49m\u001b[43m,\u001b[49m\u001b[43m \u001b[49m\u001b[38;5;241;43m*\u001b[39;49m\u001b[38;5;241;43m*\u001b[39;49m\u001b[43mkwds\u001b[49m\u001b[43m)\u001b[49m\n\u001b[0;32m    622\u001b[0m \u001b[38;5;28;01mif\u001b[39;00m chunksize \u001b[38;5;129;01mor\u001b[39;00m iterator:\n\u001b[0;32m    623\u001b[0m     \u001b[38;5;28;01mreturn\u001b[39;00m parser\n",
      "File \u001b[1;32mc:\\Users\\sinib\\AppData\\Local\\Programs\\Python\\Python312\\Lib\\site-packages\\pandas\\io\\parsers\\readers.py:1620\u001b[0m, in \u001b[0;36mTextFileReader.__init__\u001b[1;34m(self, f, engine, **kwds)\u001b[0m\n\u001b[0;32m   1617\u001b[0m     \u001b[38;5;28mself\u001b[39m\u001b[38;5;241m.\u001b[39moptions[\u001b[38;5;124m\"\u001b[39m\u001b[38;5;124mhas_index_names\u001b[39m\u001b[38;5;124m\"\u001b[39m] \u001b[38;5;241m=\u001b[39m kwds[\u001b[38;5;124m\"\u001b[39m\u001b[38;5;124mhas_index_names\u001b[39m\u001b[38;5;124m\"\u001b[39m]\n\u001b[0;32m   1619\u001b[0m \u001b[38;5;28mself\u001b[39m\u001b[38;5;241m.\u001b[39mhandles: IOHandles \u001b[38;5;241m|\u001b[39m \u001b[38;5;28;01mNone\u001b[39;00m \u001b[38;5;241m=\u001b[39m \u001b[38;5;28;01mNone\u001b[39;00m\n\u001b[1;32m-> 1620\u001b[0m \u001b[38;5;28mself\u001b[39m\u001b[38;5;241m.\u001b[39m_engine \u001b[38;5;241m=\u001b[39m \u001b[38;5;28;43mself\u001b[39;49m\u001b[38;5;241;43m.\u001b[39;49m\u001b[43m_make_engine\u001b[49m\u001b[43m(\u001b[49m\u001b[43mf\u001b[49m\u001b[43m,\u001b[49m\u001b[43m \u001b[49m\u001b[38;5;28;43mself\u001b[39;49m\u001b[38;5;241;43m.\u001b[39;49m\u001b[43mengine\u001b[49m\u001b[43m)\u001b[49m\n",
      "File \u001b[1;32mc:\\Users\\sinib\\AppData\\Local\\Programs\\Python\\Python312\\Lib\\site-packages\\pandas\\io\\parsers\\readers.py:1880\u001b[0m, in \u001b[0;36mTextFileReader._make_engine\u001b[1;34m(self, f, engine)\u001b[0m\n\u001b[0;32m   1878\u001b[0m     \u001b[38;5;28;01mif\u001b[39;00m \u001b[38;5;124m\"\u001b[39m\u001b[38;5;124mb\u001b[39m\u001b[38;5;124m\"\u001b[39m \u001b[38;5;129;01mnot\u001b[39;00m \u001b[38;5;129;01min\u001b[39;00m mode:\n\u001b[0;32m   1879\u001b[0m         mode \u001b[38;5;241m+\u001b[39m\u001b[38;5;241m=\u001b[39m \u001b[38;5;124m\"\u001b[39m\u001b[38;5;124mb\u001b[39m\u001b[38;5;124m\"\u001b[39m\n\u001b[1;32m-> 1880\u001b[0m \u001b[38;5;28mself\u001b[39m\u001b[38;5;241m.\u001b[39mhandles \u001b[38;5;241m=\u001b[39m \u001b[43mget_handle\u001b[49m\u001b[43m(\u001b[49m\n\u001b[0;32m   1881\u001b[0m \u001b[43m    \u001b[49m\u001b[43mf\u001b[49m\u001b[43m,\u001b[49m\n\u001b[0;32m   1882\u001b[0m \u001b[43m    \u001b[49m\u001b[43mmode\u001b[49m\u001b[43m,\u001b[49m\n\u001b[0;32m   1883\u001b[0m \u001b[43m    \u001b[49m\u001b[43mencoding\u001b[49m\u001b[38;5;241;43m=\u001b[39;49m\u001b[38;5;28;43mself\u001b[39;49m\u001b[38;5;241;43m.\u001b[39;49m\u001b[43moptions\u001b[49m\u001b[38;5;241;43m.\u001b[39;49m\u001b[43mget\u001b[49m\u001b[43m(\u001b[49m\u001b[38;5;124;43m\"\u001b[39;49m\u001b[38;5;124;43mencoding\u001b[39;49m\u001b[38;5;124;43m\"\u001b[39;49m\u001b[43m,\u001b[49m\u001b[43m \u001b[49m\u001b[38;5;28;43;01mNone\u001b[39;49;00m\u001b[43m)\u001b[49m\u001b[43m,\u001b[49m\n\u001b[0;32m   1884\u001b[0m \u001b[43m    \u001b[49m\u001b[43mcompression\u001b[49m\u001b[38;5;241;43m=\u001b[39;49m\u001b[38;5;28;43mself\u001b[39;49m\u001b[38;5;241;43m.\u001b[39;49m\u001b[43moptions\u001b[49m\u001b[38;5;241;43m.\u001b[39;49m\u001b[43mget\u001b[49m\u001b[43m(\u001b[49m\u001b[38;5;124;43m\"\u001b[39;49m\u001b[38;5;124;43mcompression\u001b[39;49m\u001b[38;5;124;43m\"\u001b[39;49m\u001b[43m,\u001b[49m\u001b[43m \u001b[49m\u001b[38;5;28;43;01mNone\u001b[39;49;00m\u001b[43m)\u001b[49m\u001b[43m,\u001b[49m\n\u001b[0;32m   1885\u001b[0m \u001b[43m    \u001b[49m\u001b[43mmemory_map\u001b[49m\u001b[38;5;241;43m=\u001b[39;49m\u001b[38;5;28;43mself\u001b[39;49m\u001b[38;5;241;43m.\u001b[39;49m\u001b[43moptions\u001b[49m\u001b[38;5;241;43m.\u001b[39;49m\u001b[43mget\u001b[49m\u001b[43m(\u001b[49m\u001b[38;5;124;43m\"\u001b[39;49m\u001b[38;5;124;43mmemory_map\u001b[39;49m\u001b[38;5;124;43m\"\u001b[39;49m\u001b[43m,\u001b[49m\u001b[43m \u001b[49m\u001b[38;5;28;43;01mFalse\u001b[39;49;00m\u001b[43m)\u001b[49m\u001b[43m,\u001b[49m\n\u001b[0;32m   1886\u001b[0m \u001b[43m    \u001b[49m\u001b[43mis_text\u001b[49m\u001b[38;5;241;43m=\u001b[39;49m\u001b[43mis_text\u001b[49m\u001b[43m,\u001b[49m\n\u001b[0;32m   1887\u001b[0m \u001b[43m    \u001b[49m\u001b[43merrors\u001b[49m\u001b[38;5;241;43m=\u001b[39;49m\u001b[38;5;28;43mself\u001b[39;49m\u001b[38;5;241;43m.\u001b[39;49m\u001b[43moptions\u001b[49m\u001b[38;5;241;43m.\u001b[39;49m\u001b[43mget\u001b[49m\u001b[43m(\u001b[49m\u001b[38;5;124;43m\"\u001b[39;49m\u001b[38;5;124;43mencoding_errors\u001b[39;49m\u001b[38;5;124;43m\"\u001b[39;49m\u001b[43m,\u001b[49m\u001b[43m \u001b[49m\u001b[38;5;124;43m\"\u001b[39;49m\u001b[38;5;124;43mstrict\u001b[39;49m\u001b[38;5;124;43m\"\u001b[39;49m\u001b[43m)\u001b[49m\u001b[43m,\u001b[49m\n\u001b[0;32m   1888\u001b[0m \u001b[43m    \u001b[49m\u001b[43mstorage_options\u001b[49m\u001b[38;5;241;43m=\u001b[39;49m\u001b[38;5;28;43mself\u001b[39;49m\u001b[38;5;241;43m.\u001b[39;49m\u001b[43moptions\u001b[49m\u001b[38;5;241;43m.\u001b[39;49m\u001b[43mget\u001b[49m\u001b[43m(\u001b[49m\u001b[38;5;124;43m\"\u001b[39;49m\u001b[38;5;124;43mstorage_options\u001b[39;49m\u001b[38;5;124;43m\"\u001b[39;49m\u001b[43m,\u001b[49m\u001b[43m \u001b[49m\u001b[38;5;28;43;01mNone\u001b[39;49;00m\u001b[43m)\u001b[49m\u001b[43m,\u001b[49m\n\u001b[0;32m   1889\u001b[0m \u001b[43m\u001b[49m\u001b[43m)\u001b[49m\n\u001b[0;32m   1890\u001b[0m \u001b[38;5;28;01massert\u001b[39;00m \u001b[38;5;28mself\u001b[39m\u001b[38;5;241m.\u001b[39mhandles \u001b[38;5;129;01mis\u001b[39;00m \u001b[38;5;129;01mnot\u001b[39;00m \u001b[38;5;28;01mNone\u001b[39;00m\n\u001b[0;32m   1891\u001b[0m f \u001b[38;5;241m=\u001b[39m \u001b[38;5;28mself\u001b[39m\u001b[38;5;241m.\u001b[39mhandles\u001b[38;5;241m.\u001b[39mhandle\n",
      "File \u001b[1;32mc:\\Users\\sinib\\AppData\\Local\\Programs\\Python\\Python312\\Lib\\site-packages\\pandas\\io\\common.py:873\u001b[0m, in \u001b[0;36mget_handle\u001b[1;34m(path_or_buf, mode, encoding, compression, memory_map, is_text, errors, storage_options)\u001b[0m\n\u001b[0;32m    868\u001b[0m \u001b[38;5;28;01melif\u001b[39;00m \u001b[38;5;28misinstance\u001b[39m(handle, \u001b[38;5;28mstr\u001b[39m):\n\u001b[0;32m    869\u001b[0m     \u001b[38;5;66;03m# Check whether the filename is to be opened in binary mode.\u001b[39;00m\n\u001b[0;32m    870\u001b[0m     \u001b[38;5;66;03m# Binary mode does not support 'encoding' and 'newline'.\u001b[39;00m\n\u001b[0;32m    871\u001b[0m     \u001b[38;5;28;01mif\u001b[39;00m ioargs\u001b[38;5;241m.\u001b[39mencoding \u001b[38;5;129;01mand\u001b[39;00m \u001b[38;5;124m\"\u001b[39m\u001b[38;5;124mb\u001b[39m\u001b[38;5;124m\"\u001b[39m \u001b[38;5;129;01mnot\u001b[39;00m \u001b[38;5;129;01min\u001b[39;00m ioargs\u001b[38;5;241m.\u001b[39mmode:\n\u001b[0;32m    872\u001b[0m         \u001b[38;5;66;03m# Encoding\u001b[39;00m\n\u001b[1;32m--> 873\u001b[0m         handle \u001b[38;5;241m=\u001b[39m \u001b[38;5;28;43mopen\u001b[39;49m\u001b[43m(\u001b[49m\n\u001b[0;32m    874\u001b[0m \u001b[43m            \u001b[49m\u001b[43mhandle\u001b[49m\u001b[43m,\u001b[49m\n\u001b[0;32m    875\u001b[0m \u001b[43m            \u001b[49m\u001b[43mioargs\u001b[49m\u001b[38;5;241;43m.\u001b[39;49m\u001b[43mmode\u001b[49m\u001b[43m,\u001b[49m\n\u001b[0;32m    876\u001b[0m \u001b[43m            \u001b[49m\u001b[43mencoding\u001b[49m\u001b[38;5;241;43m=\u001b[39;49m\u001b[43mioargs\u001b[49m\u001b[38;5;241;43m.\u001b[39;49m\u001b[43mencoding\u001b[49m\u001b[43m,\u001b[49m\n\u001b[0;32m    877\u001b[0m \u001b[43m            \u001b[49m\u001b[43merrors\u001b[49m\u001b[38;5;241;43m=\u001b[39;49m\u001b[43merrors\u001b[49m\u001b[43m,\u001b[49m\n\u001b[0;32m    878\u001b[0m \u001b[43m            \u001b[49m\u001b[43mnewline\u001b[49m\u001b[38;5;241;43m=\u001b[39;49m\u001b[38;5;124;43m\"\u001b[39;49m\u001b[38;5;124;43m\"\u001b[39;49m\u001b[43m,\u001b[49m\n\u001b[0;32m    879\u001b[0m \u001b[43m        \u001b[49m\u001b[43m)\u001b[49m\n\u001b[0;32m    880\u001b[0m     \u001b[38;5;28;01melse\u001b[39;00m:\n\u001b[0;32m    881\u001b[0m         \u001b[38;5;66;03m# Binary mode\u001b[39;00m\n\u001b[0;32m    882\u001b[0m         handle \u001b[38;5;241m=\u001b[39m \u001b[38;5;28mopen\u001b[39m(handle, ioargs\u001b[38;5;241m.\u001b[39mmode)\n",
      "\u001b[1;31mFileNotFoundError\u001b[0m: [Errno 2] No such file or directory: '/kaggle/input/shopping/WhatsgoodlyData-6.csv'"
     ]
    }
   ],
   "source": [
    "data=pd.read_csv(\"WhatsgoodlyData-6.csv\")\n",
    "data.head()"
   ]
  },
  {
   "cell_type": "code",
   "execution_count": null,
   "id": "5978b49b",
   "metadata": {
    "execution": {
     "iopub.execute_input": "2022-12-29T14:12:51.919072Z",
     "iopub.status.busy": "2022-12-29T14:12:51.918667Z",
     "iopub.status.idle": "2022-12-29T14:12:51.931692Z",
     "shell.execute_reply": "2022-12-29T14:12:51.930480Z"
    },
    "papermill": {
     "duration": 0.024851,
     "end_time": "2022-12-29T14:12:51.934400",
     "exception": false,
     "start_time": "2022-12-29T14:12:51.909549",
     "status": "completed"
    },
    "tags": []
   },
   "outputs": [],
   "source": [
    "data1=data.drop(\"Question\",axis=1)"
   ]
  },
  {
   "cell_type": "code",
   "execution_count": null,
   "id": "2edad053",
   "metadata": {
    "execution": {
     "iopub.execute_input": "2022-12-29T14:12:51.951427Z",
     "iopub.status.busy": "2022-12-29T14:12:51.951024Z",
     "iopub.status.idle": "2022-12-29T14:12:53.217259Z",
     "shell.execute_reply": "2022-12-29T14:12:53.216007Z"
    },
    "papermill": {
     "duration": 1.277839,
     "end_time": "2022-12-29T14:12:53.219944",
     "exception": false,
     "start_time": "2022-12-29T14:12:51.942105",
     "status": "completed"
    },
    "tags": []
   },
   "outputs": [],
   "source": [
    "import seaborn as sns \n"
   ]
  },
  {
   "cell_type": "code",
   "execution_count": null,
   "id": "c9cb9929",
   "metadata": {
    "execution": {
     "iopub.execute_input": "2022-12-29T14:12:53.238579Z",
     "iopub.status.busy": "2022-12-29T14:12:53.238188Z",
     "iopub.status.idle": "2022-12-29T14:12:53.532249Z",
     "shell.execute_reply": "2022-12-29T14:12:53.530968Z"
    },
    "papermill": {
     "duration": 0.305795,
     "end_time": "2022-12-29T14:12:53.535126",
     "exception": false,
     "start_time": "2022-12-29T14:12:53.229331",
     "status": "completed"
    },
    "tags": []
   },
   "outputs": [
    {
     "data": {
      "text/plain": [
       "<AxesSubplot:xlabel='Answer', ylabel='Count'>"
      ]
     },
     "execution_count": 6,
     "metadata": {},
     "output_type": "execute_result"
    },
    {
     "data": {
      "image/png": "[encoded data removed]",
      "text/plain": [
       "<Figure size 432x288 with 1 Axes>"
      ]
     },
     "metadata": {
      "needs_background": "light"
     },
     "output_type": "display_data"
    }
   ],
   "source": [
    "sns.histplot(x=\"Answer\",data=data1,kde=True)"
   ]
  },
  {
   "cell_type": "code",
   "execution_count": null,
   "id": "9fcfea57",
   "metadata": {
    "execution": {
     "iopub.execute_input": "2022-12-29T14:12:53.555711Z",
     "iopub.status.busy": "2022-12-29T14:12:53.555271Z",
     "iopub.status.idle": "2022-12-29T14:12:53.937876Z",
     "shell.execute_reply": "2022-12-29T14:12:53.936321Z"
    },
    "papermill": {
     "duration": 0.395959,
     "end_time": "2022-12-29T14:12:53.940514",
     "exception": false,
     "start_time": "2022-12-29T14:12:53.544555",
     "status": "completed"
    },
    "tags": []
   },
   "outputs": [
    {
     "data": {
      "text/plain": [
       "<AxesSubplot:xlabel='Answer', ylabel='Count'>"
      ]
     },
     "execution_count": 7,
     "metadata": {},
     "output_type": "execute_result"
    },
    {
     "data": {
      "image/png": "[encoded data removed]",
      "text/plain": [
       "<Figure size 432x288 with 1 Axes>"
      ]
     },
     "metadata": {
      "needs_background": "light"
     },
     "output_type": "display_data"
    }
   ],
   "source": [
    "sns.barplot(x=\"Answer\",y=\"Count\",data=data1)"
   ]
  },
  {
   "cell_type": "code",
   "execution_count": null,
   "id": "922eae63",
   "metadata": {
    "execution": {
     "iopub.execute_input": "2022-12-29T14:12:53.959207Z",
     "iopub.status.busy": "2022-12-29T14:12:53.958786Z",
     "iopub.status.idle": "2022-12-29T14:12:59.590444Z",
     "shell.execute_reply": "2022-12-29T14:12:59.589128Z"
    },
    "papermill": {
     "duration": 5.644017,
     "end_time": "2022-12-29T14:12:59.593174",
     "exception": false,
     "start_time": "2022-12-29T14:12:53.949157",
     "status": "completed"
    },
    "tags": []
   },
   "outputs": [
    {
     "data": {
      "text/plain": [
       "<seaborn.axisgrid.PairGrid at 0x7f6f5ea0a790>"
      ]
     },
     "execution_count": 8,
     "metadata": {},
     "output_type": "execute_result"
    },
    {
     "data": {
      "image/png": "[encoded data removed]",
      "text/plain": [
       "<Figure size 518.75x432 with 6 Axes>"
      ]
     },
     "metadata": {
      "needs_background": "light"
     },
     "output_type": "display_data"
    }
   ],
   "source": [
    "sns.pairplot(data1,hue=\"Answer\",height=3,diag_kind=\"hist\")"
   ]
  },
  {
   "cell_type": "code",
   "execution_count": null,
   "id": "319d82da",
   "metadata": {
    "execution": {
     "iopub.execute_input": "2022-12-29T14:12:59.614234Z",
     "iopub.status.busy": "2022-12-29T14:12:59.613795Z",
     "iopub.status.idle": "2022-12-29T14:12:59.977860Z",
     "shell.execute_reply": "2022-12-29T14:12:59.976576Z"
    },
    "papermill": {
     "duration": 0.377767,
     "end_time": "2022-12-29T14:12:59.980507",
     "exception": false,
     "start_time": "2022-12-29T14:12:59.602740",
     "status": "completed"
    },
    "tags": []
   },
   "outputs": [
    {
     "data": {
      "text/plain": [
       "<AxesSubplot:xlabel='Segment Type', ylabel='Count'>"
      ]
     },
     "execution_count": 9,
     "metadata": {},
     "output_type": "execute_result"
    },
    {
     "data": {
      "image/png": "[encoded data removed]",
      "text/plain": [
       "<Figure size 432x288 with 1 Axes>"
      ]
     },
     "metadata": {
      "needs_background": "light"
     },
     "output_type": "display_data"
    }
   ],
   "source": [
    "sns.barplot(x=\"Segment Type\",y=\"Count\",data=data1)"
   ]
  },
  {
   "cell_type": "code",
   "execution_count": null,
   "id": "82651d8b",
   "metadata": {
    "papermill": {
     "duration": 0.009827,
     "end_time": "2022-12-29T14:13:00.000276",
     "exception": false,
     "start_time": "2022-12-29T14:12:59.990449",
     "status": "completed"
    },
    "tags": []
   },
   "outputs": [],
   "source": []
  },
  {
   "cell_type": "code",
   "execution_count": null,
   "id": "1ce564d0",
   "metadata": {
    "execution": {
     "iopub.execute_input": "2022-12-29T14:13:00.022142Z",
     "iopub.status.busy": "2022-12-29T14:13:00.021469Z",
     "iopub.status.idle": "2022-12-29T14:13:00.030810Z",
     "shell.execute_reply": "2022-12-29T14:13:00.029737Z"
    },
    "papermill": {
     "duration": 0.023115,
     "end_time": "2022-12-29T14:13:00.033307",
     "exception": false,
     "start_time": "2022-12-29T14:13:00.010192",
     "status": "completed"
    },
    "tags": []
   },
   "outputs": [
    {
     "data": {
      "text/plain": [
       "Segment Type           0\n",
       "Segment Description    0\n",
       "Answer                 0\n",
       "Count                  0\n",
       "Percentage             0\n",
       "dtype: int64"
      ]
     },
     "execution_count": 10,
     "metadata": {},
     "output_type": "execute_result"
    }
   ],
   "source": [
    "data1.isnull().sum()"
   ]
  },
  {
   "cell_type": "code",
   "execution_count": null,
   "id": "6ba38077",
   "metadata": {
    "execution": {
     "iopub.execute_input": "2022-12-29T14:13:00.055598Z",
     "iopub.status.busy": "2022-12-29T14:13:00.055022Z",
     "iopub.status.idle": "2022-12-29T14:13:00.063599Z",
     "shell.execute_reply": "2022-12-29T14:13:00.062259Z"
    },
    "papermill": {
     "duration": 0.022679,
     "end_time": "2022-12-29T14:13:00.066017",
     "exception": false,
     "start_time": "2022-12-29T14:13:00.043338",
     "status": "completed"
    },
    "tags": []
   },
   "outputs": [
    {
     "data": {
      "text/plain": [
       "Segment Type            object\n",
       "Segment Description     object\n",
       "Answer                  object\n",
       "Count                    int64\n",
       "Percentage             float64\n",
       "dtype: object"
      ]
     },
     "execution_count": 11,
     "metadata": {},
     "output_type": "execute_result"
    }
   ],
   "source": [
    "data1.dtypes"
   ]
  },
  {
   "cell_type": "code",
   "execution_count": null,
   "id": "dcc9905b",
   "metadata": {
    "execution": {
     "iopub.execute_input": "2022-12-29T14:13:00.089588Z",
     "iopub.status.busy": "2022-12-29T14:13:00.089179Z",
     "iopub.status.idle": "2022-12-29T14:13:00.105475Z",
     "shell.execute_reply": "2022-12-29T14:13:00.104574Z"
    },
    "papermill": {
     "duration": 0.031326,
     "end_time": "2022-12-29T14:13:00.107733",
     "exception": false,
     "start_time": "2022-12-29T14:13:00.076407",
     "status": "completed"
    },
    "tags": []
   },
   "outputs": [
    {
     "data": {
      "text/html": [
       "<div>\n",
       "<style scoped>\n",
       "    .dataframe tbody tr th:only-of-type {\n",
       "        vertical-align: middle;\n",
       "    }\n",
       "\n",
       "    .dataframe tbody tr th {\n",
       "        vertical-align: top;\n",
       "    }\n",
       "\n",
       "    .dataframe thead th {\n",
       "        text-align: right;\n",
       "    }\n",
       "</style>\n",
       "<table border=\"1\" class=\"dataframe\">\n",
       "  <thead>\n",
       "    <tr style=\"text-align: right;\">\n",
       "      <th></th>\n",
       "      <th>Segment Type</th>\n",
       "      <th>Segment Description</th>\n",
       "      <th>Answer</th>\n",
       "      <th>Count</th>\n",
       "      <th>Percentage</th>\n",
       "    </tr>\n",
       "  </thead>\n",
       "  <tbody>\n",
       "    <tr>\n",
       "      <th>0</th>\n",
       "      <td>Mobile</td>\n",
       "      <td>Global results</td>\n",
       "      <td>Facebook</td>\n",
       "      <td>548</td>\n",
       "      <td>0.205</td>\n",
       "    </tr>\n",
       "    <tr>\n",
       "      <th>1</th>\n",
       "      <td>Mobile</td>\n",
       "      <td>Global results</td>\n",
       "      <td>Instagram</td>\n",
       "      <td>916</td>\n",
       "      <td>0.342</td>\n",
       "    </tr>\n",
       "    <tr>\n",
       "      <th>2</th>\n",
       "      <td>Mobile</td>\n",
       "      <td>Global results</td>\n",
       "      <td>Snapchat</td>\n",
       "      <td>86</td>\n",
       "      <td>0.032</td>\n",
       "    </tr>\n",
       "    <tr>\n",
       "      <th>3</th>\n",
       "      <td>Mobile</td>\n",
       "      <td>Global results</td>\n",
       "      <td>Twitter</td>\n",
       "      <td>179</td>\n",
       "      <td>0.067</td>\n",
       "    </tr>\n",
       "    <tr>\n",
       "      <th>4</th>\n",
       "      <td>Mobile</td>\n",
       "      <td>Global results</td>\n",
       "      <td>None</td>\n",
       "      <td>947</td>\n",
       "      <td>0.354</td>\n",
       "    </tr>\n",
       "  </tbody>\n",
       "</table>\n",
       "</div>"
      ],
      "text/plain": [
       "  Segment Type Segment Description     Answer  Count  Percentage\n",
       "0       Mobile      Global results   Facebook    548       0.205\n",
       "1       Mobile      Global results  Instagram    916       0.342\n",
       "2       Mobile      Global results   Snapchat     86       0.032\n",
       "3       Mobile      Global results    Twitter    179       0.067\n",
       "4       Mobile      Global results       None    947       0.354"
      ]
     },
     "execution_count": 12,
     "metadata": {},
     "output_type": "execute_result"
    }
   ],
   "source": [
    "data1[\"Segment Type\"]=data1[\"Segment Type\"].astype(\"category\")\n",
    "data1[:5]"
   ]
  },
  {
   "cell_type": "code",
   "execution_count": null,
   "id": "8e60084f",
   "metadata": {
    "execution": {
     "iopub.execute_input": "2022-12-29T14:13:00.131391Z",
     "iopub.status.busy": "2022-12-29T14:13:00.129986Z",
     "iopub.status.idle": "2022-12-29T14:13:00.301516Z",
     "shell.execute_reply": "2022-12-29T14:13:00.300408Z"
    },
    "papermill": {
     "duration": 0.186108,
     "end_time": "2022-12-29T14:13:00.304146",
     "exception": false,
     "start_time": "2022-12-29T14:13:00.118038",
     "status": "completed"
    },
    "tags": []
   },
   "outputs": [
    {
     "data": {
      "text/plain": [
       "array([2, 2, 2, ..., 0, 0, 0])"
      ]
     },
     "execution_count": 13,
     "metadata": {},
     "output_type": "execute_result"
    }
   ],
   "source": [
    "\n",
    "from sklearn.preprocessing import LabelEncoder\n",
    " \n",
    "\n",
    "le = LabelEncoder()\n",
    " \n",
    "\n",
    "label = le.fit_transform(data1['Segment Type'])\n",
    " \n",
    "\n",
    "label"
   ]
  },
  {
   "cell_type": "code",
   "execution_count": null,
   "id": "d51f8dbe",
   "metadata": {
    "papermill": {
     "duration": 0.010065,
     "end_time": "2022-12-29T14:13:00.324749",
     "exception": false,
     "start_time": "2022-12-29T14:13:00.314684",
     "status": "completed"
    },
    "tags": []
   },
   "outputs": [],
   "source": []
  },
  {
   "cell_type": "code",
   "execution_count": null,
   "id": "6375d7b5",
   "metadata": {
    "execution": {
     "iopub.execute_input": "2022-12-29T14:13:00.347534Z",
     "iopub.status.busy": "2022-12-29T14:13:00.347121Z",
     "iopub.status.idle": "2022-12-29T14:13:00.367629Z",
     "shell.execute_reply": "2022-12-29T14:13:00.366238Z"
    },
    "papermill": {
     "duration": 0.034947,
     "end_time": "2022-12-29T14:13:00.370163",
     "exception": false,
     "start_time": "2022-12-29T14:13:00.335216",
     "status": "completed"
    },
    "tags": []
   },
   "outputs": [
    {
     "data": {
      "text/html": [
       "<div>\n",
       "<style scoped>\n",
       "    .dataframe tbody tr th:only-of-type {\n",
       "        vertical-align: middle;\n",
       "    }\n",
       "\n",
       "    .dataframe tbody tr th {\n",
       "        vertical-align: top;\n",
       "    }\n",
       "\n",
       "    .dataframe thead th {\n",
       "        text-align: right;\n",
       "    }\n",
       "</style>\n",
       "<table border=\"1\" class=\"dataframe\">\n",
       "  <thead>\n",
       "    <tr style=\"text-align: right;\">\n",
       "      <th></th>\n",
       "      <th>Segment Description</th>\n",
       "      <th>Answer</th>\n",
       "      <th>Count</th>\n",
       "      <th>Percentage</th>\n",
       "      <th>Segment Type_num</th>\n",
       "    </tr>\n",
       "  </thead>\n",
       "  <tbody>\n",
       "    <tr>\n",
       "      <th>0</th>\n",
       "      <td>Global results</td>\n",
       "      <td>Facebook</td>\n",
       "      <td>548</td>\n",
       "      <td>0.205</td>\n",
       "      <td>2</td>\n",
       "    </tr>\n",
       "    <tr>\n",
       "      <th>1</th>\n",
       "      <td>Global results</td>\n",
       "      <td>Instagram</td>\n",
       "      <td>916</td>\n",
       "      <td>0.342</td>\n",
       "      <td>2</td>\n",
       "    </tr>\n",
       "    <tr>\n",
       "      <th>2</th>\n",
       "      <td>Global results</td>\n",
       "      <td>Snapchat</td>\n",
       "      <td>86</td>\n",
       "      <td>0.032</td>\n",
       "      <td>2</td>\n",
       "    </tr>\n",
       "    <tr>\n",
       "      <th>3</th>\n",
       "      <td>Global results</td>\n",
       "      <td>Twitter</td>\n",
       "      <td>179</td>\n",
       "      <td>0.067</td>\n",
       "      <td>2</td>\n",
       "    </tr>\n",
       "    <tr>\n",
       "      <th>4</th>\n",
       "      <td>Global results</td>\n",
       "      <td>None</td>\n",
       "      <td>947</td>\n",
       "      <td>0.354</td>\n",
       "      <td>2</td>\n",
       "    </tr>\n",
       "    <tr>\n",
       "      <th>...</th>\n",
       "      <td>...</td>\n",
       "      <td>...</td>\n",
       "      <td>...</td>\n",
       "      <td>...</td>\n",
       "      <td>...</td>\n",
       "    </tr>\n",
       "    <tr>\n",
       "      <th>1445</th>\n",
       "      <td>Sexual orientation? Straight</td>\n",
       "      <td>Facebook</td>\n",
       "      <td>215</td>\n",
       "      <td>0.180</td>\n",
       "      <td>0</td>\n",
       "    </tr>\n",
       "    <tr>\n",
       "      <th>1446</th>\n",
       "      <td>Sexual orientation? Straight</td>\n",
       "      <td>Instagram</td>\n",
       "      <td>354</td>\n",
       "      <td>0.297</td>\n",
       "      <td>0</td>\n",
       "    </tr>\n",
       "    <tr>\n",
       "      <th>1447</th>\n",
       "      <td>Sexual orientation? Straight</td>\n",
       "      <td>Snapchat</td>\n",
       "      <td>44</td>\n",
       "      <td>0.037</td>\n",
       "      <td>0</td>\n",
       "    </tr>\n",
       "    <tr>\n",
       "      <th>1448</th>\n",
       "      <td>Sexual orientation? Straight</td>\n",
       "      <td>Twitter</td>\n",
       "      <td>88</td>\n",
       "      <td>0.074</td>\n",
       "      <td>0</td>\n",
       "    </tr>\n",
       "    <tr>\n",
       "      <th>1449</th>\n",
       "      <td>Sexual orientation? Straight</td>\n",
       "      <td>None</td>\n",
       "      <td>492</td>\n",
       "      <td>0.412</td>\n",
       "      <td>0</td>\n",
       "    </tr>\n",
       "  </tbody>\n",
       "</table>\n",
       "<p>1450 rows × 5 columns</p>\n",
       "</div>"
      ],
      "text/plain": [
       "               Segment Description     Answer  Count  Percentage  \\\n",
       "0                   Global results   Facebook    548       0.205   \n",
       "1                   Global results  Instagram    916       0.342   \n",
       "2                   Global results   Snapchat     86       0.032   \n",
       "3                   Global results    Twitter    179       0.067   \n",
       "4                   Global results       None    947       0.354   \n",
       "...                            ...        ...    ...         ...   \n",
       "1445  Sexual orientation? Straight   Facebook    215       0.180   \n",
       "1446  Sexual orientation? Straight  Instagram    354       0.297   \n",
       "1447  Sexual orientation? Straight   Snapchat     44       0.037   \n",
       "1448  Sexual orientation? Straight    Twitter     88       0.074   \n",
       "1449  Sexual orientation? Straight       None    492       0.412   \n",
       "\n",
       "      Segment Type_num  \n",
       "0                    2  \n",
       "1                    2  \n",
       "2                    2  \n",
       "3                    2  \n",
       "4                    2  \n",
       "...                ...  \n",
       "1445                 0  \n",
       "1446                 0  \n",
       "1447                 0  \n",
       "1448                 0  \n",
       "1449                 0  \n",
       "\n",
       "[1450 rows x 5 columns]"
      ]
     },
     "execution_count": 14,
     "metadata": {},
     "output_type": "execute_result"
    }
   ],
   "source": [
    "data1.drop(\"Segment Type\", axis=1, inplace=True)\n",
    "\n",
    "data1[\"Segment Type_num\"] = label\n",
    " \n",
    "\n",
    "data1\n"
   ]
  },
  {
   "cell_type": "code",
   "execution_count": null,
   "id": "907da564",
   "metadata": {
    "execution": {
     "iopub.execute_input": "2022-12-29T14:13:00.393384Z",
     "iopub.status.busy": "2022-12-29T14:13:00.392965Z",
     "iopub.status.idle": "2022-12-29T14:13:00.400853Z",
     "shell.execute_reply": "2022-12-29T14:13:00.400095Z"
    },
    "papermill": {
     "duration": 0.022384,
     "end_time": "2022-12-29T14:13:00.403271",
     "exception": false,
     "start_time": "2022-12-29T14:13:00.380887",
     "status": "completed"
    },
    "tags": []
   },
   "outputs": [
    {
     "data": {
      "text/plain": [
       "array([ 50,  50,  50, ..., 112, 112, 112])"
      ]
     },
     "execution_count": 15,
     "metadata": {},
     "output_type": "execute_result"
    }
   ],
   "source": [
    "from sklearn.preprocessing import LabelEncoder\n",
    "\n",
    "le2 = LabelEncoder()\n",
    "\n",
    "label2 = le2.fit_transform(data1['Segment Description'])\n",
    "\n",
    "label2"
   ]
  },
  {
   "cell_type": "code",
   "execution_count": null,
   "id": "5c7f92ca",
   "metadata": {
    "execution": {
     "iopub.execute_input": "2022-12-29T14:13:00.426627Z",
     "iopub.status.busy": "2022-12-29T14:13:00.426225Z",
     "iopub.status.idle": "2022-12-29T14:13:00.448154Z",
     "shell.execute_reply": "2022-12-29T14:13:00.447025Z"
    },
    "papermill": {
     "duration": 0.036288,
     "end_time": "2022-12-29T14:13:00.450461",
     "exception": false,
     "start_time": "2022-12-29T14:13:00.414173",
     "status": "completed"
    },
    "tags": []
   },
   "outputs": [
    {
     "data": {
      "text/html": [
       "<div>\n",
       "<style scoped>\n",
       "    .dataframe tbody tr th:only-of-type {\n",
       "        vertical-align: middle;\n",
       "    }\n",
       "\n",
       "    .dataframe tbody tr th {\n",
       "        vertical-align: top;\n",
       "    }\n",
       "\n",
       "    .dataframe thead th {\n",
       "        text-align: right;\n",
       "    }\n",
       "</style>\n",
       "<table border=\"1\" class=\"dataframe\">\n",
       "  <thead>\n",
       "    <tr style=\"text-align: right;\">\n",
       "      <th></th>\n",
       "      <th>Answer</th>\n",
       "      <th>Count</th>\n",
       "      <th>Percentage</th>\n",
       "      <th>Segment Type_num</th>\n",
       "      <th>Segment Description_num</th>\n",
       "    </tr>\n",
       "  </thead>\n",
       "  <tbody>\n",
       "    <tr>\n",
       "      <th>0</th>\n",
       "      <td>Facebook</td>\n",
       "      <td>548</td>\n",
       "      <td>0.205</td>\n",
       "      <td>2</td>\n",
       "      <td>50</td>\n",
       "    </tr>\n",
       "    <tr>\n",
       "      <th>1</th>\n",
       "      <td>Instagram</td>\n",
       "      <td>916</td>\n",
       "      <td>0.342</td>\n",
       "      <td>2</td>\n",
       "      <td>50</td>\n",
       "    </tr>\n",
       "    <tr>\n",
       "      <th>2</th>\n",
       "      <td>Snapchat</td>\n",
       "      <td>86</td>\n",
       "      <td>0.032</td>\n",
       "      <td>2</td>\n",
       "      <td>50</td>\n",
       "    </tr>\n",
       "    <tr>\n",
       "      <th>3</th>\n",
       "      <td>Twitter</td>\n",
       "      <td>179</td>\n",
       "      <td>0.067</td>\n",
       "      <td>2</td>\n",
       "      <td>50</td>\n",
       "    </tr>\n",
       "    <tr>\n",
       "      <th>4</th>\n",
       "      <td>None</td>\n",
       "      <td>947</td>\n",
       "      <td>0.354</td>\n",
       "      <td>2</td>\n",
       "      <td>50</td>\n",
       "    </tr>\n",
       "    <tr>\n",
       "      <th>...</th>\n",
       "      <td>...</td>\n",
       "      <td>...</td>\n",
       "      <td>...</td>\n",
       "      <td>...</td>\n",
       "      <td>...</td>\n",
       "    </tr>\n",
       "    <tr>\n",
       "      <th>1445</th>\n",
       "      <td>Facebook</td>\n",
       "      <td>215</td>\n",
       "      <td>0.180</td>\n",
       "      <td>0</td>\n",
       "      <td>112</td>\n",
       "    </tr>\n",
       "    <tr>\n",
       "      <th>1446</th>\n",
       "      <td>Instagram</td>\n",
       "      <td>354</td>\n",
       "      <td>0.297</td>\n",
       "      <td>0</td>\n",
       "      <td>112</td>\n",
       "    </tr>\n",
       "    <tr>\n",
       "      <th>1447</th>\n",
       "      <td>Snapchat</td>\n",
       "      <td>44</td>\n",
       "      <td>0.037</td>\n",
       "      <td>0</td>\n",
       "      <td>112</td>\n",
       "    </tr>\n",
       "    <tr>\n",
       "      <th>1448</th>\n",
       "      <td>Twitter</td>\n",
       "      <td>88</td>\n",
       "      <td>0.074</td>\n",
       "      <td>0</td>\n",
       "      <td>112</td>\n",
       "    </tr>\n",
       "    <tr>\n",
       "      <th>1449</th>\n",
       "      <td>None</td>\n",
       "      <td>492</td>\n",
       "      <td>0.412</td>\n",
       "      <td>0</td>\n",
       "      <td>112</td>\n",
       "    </tr>\n",
       "  </tbody>\n",
       "</table>\n",
       "<p>1450 rows × 5 columns</p>\n",
       "</div>"
      ],
      "text/plain": [
       "         Answer  Count  Percentage  Segment Type_num  Segment Description_num\n",
       "0      Facebook    548       0.205                 2                       50\n",
       "1     Instagram    916       0.342                 2                       50\n",
       "2      Snapchat     86       0.032                 2                       50\n",
       "3       Twitter    179       0.067                 2                       50\n",
       "4          None    947       0.354                 2                       50\n",
       "...         ...    ...         ...               ...                      ...\n",
       "1445   Facebook    215       0.180                 0                      112\n",
       "1446  Instagram    354       0.297                 0                      112\n",
       "1447   Snapchat     44       0.037                 0                      112\n",
       "1448    Twitter     88       0.074                 0                      112\n",
       "1449       None    492       0.412                 0                      112\n",
       "\n",
       "[1450 rows x 5 columns]"
      ]
     },
     "execution_count": 16,
     "metadata": {},
     "output_type": "execute_result"
    }
   ],
   "source": [
    "data1.drop(\"Segment Description\", axis=1, inplace=True)\n",
    "\n",
    "data1[\"Segment Description_num\"] = label2\n",
    " \n",
    "\n",
    "data1\n"
   ]
  },
  {
   "cell_type": "markdown",
   "id": "518c55dc",
   "metadata": {
    "papermill": {
     "duration": 0.010725,
     "end_time": "2022-12-29T14:13:00.472387",
     "exception": false,
     "start_time": "2022-12-29T14:13:00.461662",
     "status": "completed"
    },
    "tags": []
   },
   "source": [
    " To be able to make prediction.We convert \"Answer\" column into numeric,too"
   ]
  },
  {
   "cell_type": "markdown",
   "id": "a663429f",
   "metadata": {
    "papermill": {
     "duration": 0.010587,
     "end_time": "2022-12-29T14:13:00.493898",
     "exception": false,
     "start_time": "2022-12-29T14:13:00.483311",
     "status": "completed"
    },
    "tags": []
   },
   "source": []
  },
  {
   "cell_type": "code",
   "execution_count": null,
   "id": "e01c8225",
   "metadata": {
    "execution": {
     "iopub.execute_input": "2022-12-29T14:13:00.517822Z",
     "iopub.status.busy": "2022-12-29T14:13:00.517375Z",
     "iopub.status.idle": "2022-12-29T14:13:00.525366Z",
     "shell.execute_reply": "2022-12-29T14:13:00.524432Z"
    },
    "papermill": {
     "duration": 0.022834,
     "end_time": "2022-12-29T14:13:00.527663",
     "exception": false,
     "start_time": "2022-12-29T14:13:00.504829",
     "status": "completed"
    },
    "tags": []
   },
   "outputs": [
    {
     "data": {
      "text/plain": [
       "array([0, 1, 3, ..., 3, 4, 2])"
      ]
     },
     "execution_count": 17,
     "metadata": {},
     "output_type": "execute_result"
    }
   ],
   "source": [
    "\n",
    "le3 = LabelEncoder()\n",
    " \n",
    "\n",
    "label3 = le3.fit_transform(data1['Answer'])\n",
    " \n",
    "\n",
    "label3"
   ]
  },
  {
   "cell_type": "code",
   "execution_count": null,
   "id": "0b6dd12c",
   "metadata": {
    "execution": {
     "iopub.execute_input": "2022-12-29T14:13:00.552359Z",
     "iopub.status.busy": "2022-12-29T14:13:00.551921Z",
     "iopub.status.idle": "2022-12-29T14:13:00.570344Z",
     "shell.execute_reply": "2022-12-29T14:13:00.569211Z"
    },
    "papermill": {
     "duration": 0.034028,
     "end_time": "2022-12-29T14:13:00.572913",
     "exception": false,
     "start_time": "2022-12-29T14:13:00.538885",
     "status": "completed"
    },
    "tags": []
   },
   "outputs": [
    {
     "data": {
      "text/html": [
       "<div>\n",
       "<style scoped>\n",
       "    .dataframe tbody tr th:only-of-type {\n",
       "        vertical-align: middle;\n",
       "    }\n",
       "\n",
       "    .dataframe tbody tr th {\n",
       "        vertical-align: top;\n",
       "    }\n",
       "\n",
       "    .dataframe thead th {\n",
       "        text-align: right;\n",
       "    }\n",
       "</style>\n",
       "<table border=\"1\" class=\"dataframe\">\n",
       "  <thead>\n",
       "    <tr style=\"text-align: right;\">\n",
       "      <th></th>\n",
       "      <th>Count</th>\n",
       "      <th>Percentage</th>\n",
       "      <th>Segment Type_num</th>\n",
       "      <th>Segment Description_num</th>\n",
       "      <th>Answer_num</th>\n",
       "    </tr>\n",
       "  </thead>\n",
       "  <tbody>\n",
       "    <tr>\n",
       "      <th>0</th>\n",
       "      <td>548</td>\n",
       "      <td>0.205</td>\n",
       "      <td>2</td>\n",
       "      <td>50</td>\n",
       "      <td>0</td>\n",
       "    </tr>\n",
       "    <tr>\n",
       "      <th>1</th>\n",
       "      <td>916</td>\n",
       "      <td>0.342</td>\n",
       "      <td>2</td>\n",
       "      <td>50</td>\n",
       "      <td>1</td>\n",
       "    </tr>\n",
       "    <tr>\n",
       "      <th>2</th>\n",
       "      <td>86</td>\n",
       "      <td>0.032</td>\n",
       "      <td>2</td>\n",
       "      <td>50</td>\n",
       "      <td>3</td>\n",
       "    </tr>\n",
       "    <tr>\n",
       "      <th>3</th>\n",
       "      <td>179</td>\n",
       "      <td>0.067</td>\n",
       "      <td>2</td>\n",
       "      <td>50</td>\n",
       "      <td>4</td>\n",
       "    </tr>\n",
       "    <tr>\n",
       "      <th>4</th>\n",
       "      <td>947</td>\n",
       "      <td>0.354</td>\n",
       "      <td>2</td>\n",
       "      <td>50</td>\n",
       "      <td>2</td>\n",
       "    </tr>\n",
       "    <tr>\n",
       "      <th>...</th>\n",
       "      <td>...</td>\n",
       "      <td>...</td>\n",
       "      <td>...</td>\n",
       "      <td>...</td>\n",
       "      <td>...</td>\n",
       "    </tr>\n",
       "    <tr>\n",
       "      <th>1445</th>\n",
       "      <td>215</td>\n",
       "      <td>0.180</td>\n",
       "      <td>0</td>\n",
       "      <td>112</td>\n",
       "      <td>0</td>\n",
       "    </tr>\n",
       "    <tr>\n",
       "      <th>1446</th>\n",
       "      <td>354</td>\n",
       "      <td>0.297</td>\n",
       "      <td>0</td>\n",
       "      <td>112</td>\n",
       "      <td>1</td>\n",
       "    </tr>\n",
       "    <tr>\n",
       "      <th>1447</th>\n",
       "      <td>44</td>\n",
       "      <td>0.037</td>\n",
       "      <td>0</td>\n",
       "      <td>112</td>\n",
       "      <td>3</td>\n",
       "    </tr>\n",
       "    <tr>\n",
       "      <th>1448</th>\n",
       "      <td>88</td>\n",
       "      <td>0.074</td>\n",
       "      <td>0</td>\n",
       "      <td>112</td>\n",
       "      <td>4</td>\n",
       "    </tr>\n",
       "    <tr>\n",
       "      <th>1449</th>\n",
       "      <td>492</td>\n",
       "      <td>0.412</td>\n",
       "      <td>0</td>\n",
       "      <td>112</td>\n",
       "      <td>2</td>\n",
       "    </tr>\n",
       "  </tbody>\n",
       "</table>\n",
       "<p>1450 rows × 5 columns</p>\n",
       "</div>"
      ],
      "text/plain": [
       "      Count  Percentage  Segment Type_num  Segment Description_num  Answer_num\n",
       "0       548       0.205                 2                       50           0\n",
       "1       916       0.342                 2                       50           1\n",
       "2        86       0.032                 2                       50           3\n",
       "3       179       0.067                 2                       50           4\n",
       "4       947       0.354                 2                       50           2\n",
       "...     ...         ...               ...                      ...         ...\n",
       "1445    215       0.180                 0                      112           0\n",
       "1446    354       0.297                 0                      112           1\n",
       "1447     44       0.037                 0                      112           3\n",
       "1448     88       0.074                 0                      112           4\n",
       "1449    492       0.412                 0                      112           2\n",
       "\n",
       "[1450 rows x 5 columns]"
      ]
     },
     "execution_count": 18,
     "metadata": {},
     "output_type": "execute_result"
    }
   ],
   "source": [
    "data1.drop(\"Answer\", axis=1, inplace=True)\n",
    " \n",
    "\n",
    "data1[\"Answer_num\"] = label3\n",
    " \n",
    "data1\n"
   ]
  },
  {
   "cell_type": "code",
   "execution_count": null,
   "id": "c81a5455",
   "metadata": {
    "execution": {
     "iopub.execute_input": "2022-12-29T14:13:00.598012Z",
     "iopub.status.busy": "2022-12-29T14:13:00.596854Z",
     "iopub.status.idle": "2022-12-29T14:13:00.609171Z",
     "shell.execute_reply": "2022-12-29T14:13:00.607998Z"
    },
    "papermill": {
     "duration": 0.027534,
     "end_time": "2022-12-29T14:13:00.611888",
     "exception": false,
     "start_time": "2022-12-29T14:13:00.584354",
     "status": "completed"
    },
    "tags": []
   },
   "outputs": [
    {
     "name": "stdout",
     "output_type": "stream",
     "text": [
      "      Segment Type_num  Segment Description_num  Answer_num  Percentage  Count\n",
      "0                    2                       50           0       0.205    548\n",
      "1                    2                       50           1       0.342    916\n",
      "2                    2                       50           3       0.032     86\n",
      "3                    2                       50           4       0.067    179\n",
      "4                    2                       50           2       0.354    947\n",
      "...                ...                      ...         ...         ...    ...\n",
      "1445                 0                      112           0       0.180    215\n",
      "1446                 0                      112           1       0.297    354\n",
      "1447                 0                      112           3       0.037     44\n",
      "1448                 0                      112           4       0.074     88\n",
      "1449                 0                      112           2       0.412    492\n",
      "\n",
      "[1450 rows x 5 columns]\n"
     ]
    }
   ],
   "source": [
    "new_cols = [\"Segment Type_num\",\"Segment Description_num\",\"Answer_num\",\"Percentage\",\"Count\"]\n",
    "\n",
    "data1=data1.reindex(columns=new_cols)\n",
    "print(data1)"
   ]
  },
  {
   "cell_type": "code",
   "execution_count": null,
   "id": "931c7191",
   "metadata": {
    "execution": {
     "iopub.execute_input": "2022-12-29T14:13:00.637293Z",
     "iopub.status.busy": "2022-12-29T14:13:00.636848Z",
     "iopub.status.idle": "2022-12-29T14:13:00.652503Z",
     "shell.execute_reply": "2022-12-29T14:13:00.651313Z"
    },
    "papermill": {
     "duration": 0.031097,
     "end_time": "2022-12-29T14:13:00.654754",
     "exception": false,
     "start_time": "2022-12-29T14:13:00.623657",
     "status": "completed"
    },
    "tags": []
   },
   "outputs": [
    {
     "data": {
      "text/plain": [
       "(      Segment Type_num  Segment Description_num  Answer_num  Percentage\n",
       " 0                    2                       50           0       0.205\n",
       " 1                    2                       50           1       0.342\n",
       " 2                    2                       50           3       0.032\n",
       " 3                    2                       50           4       0.067\n",
       " 4                    2                       50           2       0.354\n",
       " ...                ...                      ...         ...         ...\n",
       " 1445                 0                      112           0       0.180\n",
       " 1446                 0                      112           1       0.297\n",
       " 1447                 0                      112           3       0.037\n",
       " 1448                 0                      112           4       0.074\n",
       " 1449                 0                      112           2       0.412\n",
       " \n",
       " [1450 rows x 4 columns],\n",
       "       Count\n",
       " 0       548\n",
       " 1       916\n",
       " 2        86\n",
       " 3       179\n",
       " 4       947\n",
       " ...     ...\n",
       " 1445    215\n",
       " 1446    354\n",
       " 1447     44\n",
       " 1448     88\n",
       " 1449    492\n",
       " \n",
       " [1450 rows x 1 columns])"
      ]
     },
     "execution_count": 20,
     "metadata": {},
     "output_type": "execute_result"
    }
   ],
   "source": [
    "X=data1.iloc[:,:-1]\n",
    "y=data1.iloc[:,-1:]\n",
    "X,y"
   ]
  },
  {
   "cell_type": "code",
   "execution_count": null,
   "id": "0ccb364e",
   "metadata": {
    "execution": {
     "iopub.execute_input": "2022-12-29T14:13:00.679724Z",
     "iopub.status.busy": "2022-12-29T14:13:00.679323Z",
     "iopub.status.idle": "2022-12-29T14:13:00.754876Z",
     "shell.execute_reply": "2022-12-29T14:13:00.753646Z"
    },
    "papermill": {
     "duration": 0.091576,
     "end_time": "2022-12-29T14:13:00.757951",
     "exception": false,
     "start_time": "2022-12-29T14:13:00.666375",
     "status": "completed"
    },
    "tags": []
   },
   "outputs": [],
   "source": [
    "from sklearn.model_selection import train_test_split\n",
    "X_train,X_test,y_train,y_test=train_test_split(X,y,test_size=0.33,random_state=42)"
   ]
  },
  {
   "cell_type": "code",
   "execution_count": null,
   "id": "e2e096c7",
   "metadata": {
    "execution": {
     "iopub.execute_input": "2022-12-29T14:13:00.783486Z",
     "iopub.status.busy": "2022-12-29T14:13:00.783005Z",
     "iopub.status.idle": "2022-12-29T14:13:00.973602Z",
     "shell.execute_reply": "2022-12-29T14:13:00.972432Z"
    },
    "papermill": {
     "duration": 0.206652,
     "end_time": "2022-12-29T14:13:00.976318",
     "exception": false,
     "start_time": "2022-12-29T14:13:00.769666",
     "status": "completed"
    },
    "tags": []
   },
   "outputs": [
    {
     "data": {
      "text/plain": [
       "DecisionTreeRegressor(random_state=42)"
      ]
     },
     "execution_count": 22,
     "metadata": {},
     "output_type": "execute_result"
    }
   ],
   "source": [
    "from sklearn.tree import DecisionTreeRegressor \n",
    "  \n",
    "\n",
    "reg = DecisionTreeRegressor(random_state = 42) \n",
    "  \n",
    "# fit the regressor with X and Y data\n",
    "reg.fit(X, y)"
   ]
  },
  {
   "cell_type": "code",
   "execution_count": null,
   "id": "7369a6ac",
   "metadata": {
    "execution": {
     "iopub.execute_input": "2022-12-29T14:13:01.001458Z",
     "iopub.status.busy": "2022-12-29T14:13:01.000986Z",
     "iopub.status.idle": "2022-12-29T14:13:01.006317Z",
     "shell.execute_reply": "2022-12-29T14:13:01.004931Z"
    },
    "papermill": {
     "duration": 0.020734,
     "end_time": "2022-12-29T14:13:01.008665",
     "exception": false,
     "start_time": "2022-12-29T14:13:00.987931",
     "status": "completed"
    },
    "tags": []
   },
   "outputs": [],
   "source": [
    "from sklearn.metrics import mean_squared_error"
   ]
  },
  {
   "cell_type": "code",
   "execution_count": null,
   "id": "1e0723e4",
   "metadata": {
    "execution": {
     "iopub.execute_input": "2022-12-29T14:13:01.034950Z",
     "iopub.status.busy": "2022-12-29T14:13:01.034196Z",
     "iopub.status.idle": "2022-12-29T14:13:01.049037Z",
     "shell.execute_reply": "2022-12-29T14:13:01.047543Z"
    },
    "papermill": {
     "duration": 0.031338,
     "end_time": "2022-12-29T14:13:01.051766",
     "exception": false,
     "start_time": "2022-12-29T14:13:01.020428",
     "status": "completed"
    },
    "tags": []
   },
   "outputs": [
    {
     "name": "stdout",
     "output_type": "stream",
     "text": [
      "1.0 1.0\n"
     ]
    }
   ],
   "source": [
    "accuracy_train = reg.score(X_train, y_train)\n",
    "\n",
    "accuracy_test = reg.score(X_test, y_test)\n",
    "print( accuracy_train,accuracy_test) \n",
    " \n"
   ]
  },
  {
   "cell_type": "code",
   "execution_count": null,
   "id": "a5b63f1f",
   "metadata": {
    "execution": {
     "iopub.execute_input": "2022-12-29T14:13:01.077823Z",
     "iopub.status.busy": "2022-12-29T14:13:01.076630Z",
     "iopub.status.idle": "2022-12-29T14:13:01.088385Z",
     "shell.execute_reply": "2022-12-29T14:13:01.087105Z"
    },
    "papermill": {
     "duration": 0.028161,
     "end_time": "2022-12-29T14:13:01.091824",
     "exception": false,
     "start_time": "2022-12-29T14:13:01.063663",
     "status": "completed"
    },
    "tags": []
   },
   "outputs": [
    {
     "name": "stderr",
     "output_type": "stream",
     "text": [
      "/opt/conda/lib/python3.7/site-packages/sklearn/base.py:451: UserWarning: X does not have valid feature names, but DecisionTreeRegressor was fitted with feature names\n",
      "  \"X does not have valid feature names, but\"\n"
     ]
    },
    {
     "data": {
      "text/plain": [
       "array([916.])"
      ]
     },
     "execution_count": 25,
     "metadata": {},
     "output_type": "execute_result"
    }
   ],
   "source": [
    "y_pred = reg.predict([X.loc[1]])\n",
    "y_pred"
   ]
  },
  {
   "cell_type": "markdown",
   "id": "3b55129f",
   "metadata": {
    "papermill": {
     "duration": 0.011412,
     "end_time": "2022-12-29T14:13:01.115581",
     "exception": false,
     "start_time": "2022-12-29T14:13:01.104169",
     "status": "completed"
    },
    "tags": []
   },
   "source": [
    "Answer is true !!!"
   ]
  },
  {
   "cell_type": "code",
   "execution_count": null,
   "id": "43031f83",
   "metadata": {
    "papermill": {
     "duration": 0.011689,
     "end_time": "2022-12-29T14:13:01.138981",
     "exception": false,
     "start_time": "2022-12-29T14:13:01.127292",
     "status": "completed"
    },
    "tags": []
   },
   "outputs": [],
   "source": []
  }
 ],
 "metadata": {
  "kernelspec": {
   "display_name": "Python 3",
   "language": "python",
   "name": "python3"
  },
  "language_info": {
   "codemirror_mode": {
    "name": "ipython",
    "version": 3
   },
   "file_extension": ".py",
   "mimetype": "text/x-python",
   "name": "python",
   "nbconvert_exporter": "python",
   "pygments_lexer": "ipython3",
   "version": "3.12.2"
  },
  "papermill": {
   "default_parameters": {},
   "duration": 20.389027,
   "end_time": "2022-12-29T14:13:02.074821",
   "environment_variables": {},
   "exception": null,
   "input_path": "__notebook__.ipynb",
   "output_path": "__notebook__.ipynb",
   "parameters": {},
   "start_time": "2022-12-29T14:12:41.685794",
   "version": "2.3.4"
  }
 },
 "nbformat": 4,
 "nbformat_minor": 5
}
